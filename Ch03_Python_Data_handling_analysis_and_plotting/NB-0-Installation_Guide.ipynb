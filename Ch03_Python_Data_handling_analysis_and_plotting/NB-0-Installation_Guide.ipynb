{
 "cells": [
  {
   "cell_type": "markdown",
   "metadata": {},
   "source": [
    "# Set up your computer to start using Anaconda and Jupyter Notebook"
   ]
  },
  {
   "cell_type": "markdown",
   "metadata": {},
   "source": [
    "The first step is to download Anaconda. As we mentioned in the book, for the Python Data Analysis and Plotting chapter, we will be using Anaconda as our Python distribution. Also, all the examples you see in the book will also be available in the form of Jupyter Notebooks so we will set up this as well. Finally, we will create an environment to install all the packages needed to follow the chapter.  "
   ]
  },
  {
   "cell_type": "markdown",
   "metadata": {},
   "source": [
    "## Install Anaconda Distribution\n",
    "\n",
    "Anaconda is available for Linux, Mac and Windows. It comes with Python version 3, conda package manager (with the possibility to download form the 7500 packahes available), Anaconda Prompt (the command shell line) and Anaconda Navigator (the GUI). To download, visit the following [Link](https://www.anaconda.com/products/individual).\n",
    "\n",
    "If you have any doubts or would like more information on how to get started with Anaconda, visit the following [Link](https://docs.anaconda.com/anaconda/user-guide/getting-started/).\n",
    "\n",
    "Once isntalled, we can launch Anaconda Navigator.\n",
    "- Windows: From the Start menu, click the Anaconda Navigator desktop app.\n",
    "- Mac: From the Launchpad, click the Anaconda Navigator icon\n",
    "- Linux: From a terminal window type ``anaconda-navigator``."
   ]
  },
  {
   "cell_type": "markdown",
   "metadata": {},
   "source": [
    "## Run Python using a Jupyter Notebook\n",
    "\n",
    "In the Anaconda Navigator home tab, in the applications section, scroll until you see the icon for Jupyter Notebook. Click the Install button to install Jupyter Notebook. \n",
    "\n",
    "<img src=\"./Figures/AnacondaNavigator.png\">\n",
    "\n",
    "Once the installation is over, launch a Jupyter Notebook. This will open a new window on your browser. There will be a dropdown menu labeled “New”. Create a new Python 3 Notebook.\n",
    "\n",
    "You can rename the notebook which by default is called \"Untitled\" by double clicking there. In the figure below you will see an example of a Jupyter Notebook with a mix of markdown and code cells and the meaning of the shortcut menu you have in each notebook.\n",
    "\n",
    "<img src=\"./Figures/JupyterNotebook.png\">\n",
    "\n",
    "The command palette shows a list of keys and shortcus to use with the notebook. The RISE slide show allows you to convert your notebook into a [reveal.js-based](https://rise.readthedocs.io/en/stable/) presentation (we will have an example figure later).\n",
    "\n",
    "As you can see in this figure, usually the first cell is used to import the packages you will use in your notebook. There are generally two types of import syntax:\n",
    "\n",
    "``import package as pkg ``\n",
    "\n",
    "Where you import the resource directly and you chose to rename it (which is something very common and there are usually conventional names for each package). Or, you can import a sub-package or class or function from a package:\n",
    "\n",
    "``from package import sub-package ``\n",
    "\n",
    "Later on, whenever you want to use a function or a method from the uploaded package you just need to call it like this: ``pkg.function()``\n",
    "\n",
    "If you want to learn more about how to import packages on Python, follow the tutorial on this [Link](https://realpython.com/absolute-vs-relative-python-imports/)\n",
    "\n",
    "For this chapter we will be using several packages and in order to avoid conflicts with other existing packages you have (or that you download in the future), we will create an environment."
   ]
  },
  {
   "cell_type": "markdown",
   "metadata": {},
   "source": [
    "## Create an environment\n",
    "\n",
    "As mentioned before, you could have the case in which you have conflicts between two packages because they require different versions of another packages or a similar case. For this reason, we will create an environment specific to follow all the examples of this chapter. \n",
    "For the full in detail explanation on how to create environments using conda, visit the [Link](https://docs.conda.io/projects/conda/en/latest/user-guide/tasks/manage-environments.html)\n",
    "\n",
    "To create the environment, open the terminal or an Anaconda Prompt and follow the following steps:\n",
    "\n",
    "[1] `` conda create --name pychapter ``\n",
    "\n",
    "[2] Conda will ask you if you want to proceed: ``proceed ([y]/n)?`` , type ``y``. \n",
    "\n",
    "A new environment will be created and you can check it on the Anaconda Navigator in the Environments tab (below the home tab, on the left). You will see that there is no package installed to avoid package conflicts. However, we will be using many of the packages that come already installed with the Anaconda Distribution so in order to get them all, we use the following line: \n",
    "\n",
    "`` conda activate pychapter`` \n",
    "\n",
    "``conda update --all``"
   ]
  },
  {
   "cell_type": "markdown",
   "metadata": {},
   "source": [
    "## Package installations\n",
    "\n",
    "To install a package, we will open the conda prompt (in Windows) or the terminal in Mac or Linux, and write the following commands using ``conda`` ."
   ]
  },
  {
   "cell_type": "markdown",
   "metadata": {},
   "source": [
    "### Holoviews and Bokeh\n",
    "\n",
    "``conda install -c pyviz holoviews bokeh``\n",
    "\n",
    "*When you install the packages, you need to have the environment activated using the commands mentioned before. Otherwise, they will be installed in your base (root)*.  "
   ]
  },
  {
   "cell_type": "markdown",
   "metadata": {},
   "source": [
    "Once you finish all the installations (and you are in the environment ``pychapter`` you can then write in the terminal or in the Anaconda prompt:\n",
    "\n",
    "``jupyter notebook`` \n",
    "\n",
    "This will activate the Jupyter Notebook. Finally, open the folder where you saved the .ipynb for the chapter, you can now start to explore them!"
   ]
  },
  {
   "cell_type": "markdown",
   "metadata": {},
   "source": [
    "## You are ready!\n",
    "You are now ready to start using Python with Jupyter Notebooks! If you are new to Python, I highly recommend you start by checking the next notebook: NB-1-Python_Introduction.ipynb , it will cover some of the basics you will need to better understand the rest of the chapter. If you have already used Python before, then you can start following the book with the corresponding python notebook for each section (the book chapter will follow you through!). "
   ]
  },
  {
   "cell_type": "markdown",
   "metadata": {},
   "source": [
    "### *In case you are interested...*\n",
    "\n",
    "## RISE Slide-show\n",
    "\n",
    "Tou can also use the Python Notebook as a Slide-show in order to present you notebooks to others. The figure below shows an example on how you can set up a slide show. This allows you to show your code, your resuls and even the text and figures from the markdown cells in the form of a presentation! \n",
    "\n",
    "However, if you want to learn more about this feature, visit the [link](https://rise.readthedocs.io/en/stable/).\n",
    "\n",
    "<img src=\"./Figures/SlideShow.pdf\">"
   ]
  },
  {
   "cell_type": "code",
   "execution_count": null,
   "metadata": {},
   "outputs": [],
   "source": []
  }
 ],
 "metadata": {
  "kernelspec": {
   "display_name": "Python 3",
   "language": "python",
   "name": "python3"
  },
  "language_info": {
   "codemirror_mode": {
    "name": "ipython",
    "version": 3
   },
   "file_extension": ".py",
   "mimetype": "text/x-python",
   "name": "python",
   "nbconvert_exporter": "python",
   "pygments_lexer": "ipython3",
   "version": "3.7.8"
  }
 },
 "nbformat": 4,
 "nbformat_minor": 2
}
