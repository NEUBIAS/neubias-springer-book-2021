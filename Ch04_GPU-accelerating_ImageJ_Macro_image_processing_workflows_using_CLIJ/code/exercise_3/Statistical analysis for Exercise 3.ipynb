{
 "cells": [
  {
   "cell_type": "markdown",
   "metadata": {},
   "source": [
    "# Statistical analysis for Exercise 3\n",
    "We executed a mean 3D filter in ImageJ and CLIJ and saved execution times as ImageJ-xls file. We performed that experiment on four test computers with this specified CPU/GPU hardware:\n",
    " 1. Intel i5-8265U CPU/ Intel UHD 620 integrated GPU\n",
    " 2. Intel i7-8750H CPU/ NVidia Geforce 2080 Ti RTX external GPU\n",
    " 3. AMD Ryzen 4700U CPU/ AMD Vega 7 integrated GPU\n",
    " 4. Intel i7-7920HQ CPU/ AMD Radeon Pro 560 dedicated GPU\n",
    " \n",
    "This notebook serves summarizing these xls files."
   ]
  },
  {
   "cell_type": "code",
   "execution_count": 1,
   "metadata": {},
   "outputs": [],
   "source": [
    "# We start with two xls files per tested system\n",
    "single_command_imagej = \"imagej_mean_filter_timing.xls\"\n",
    "single_command_clij = \"clij_mean_filter_timing.xls\"\n",
    "\n",
    "# The xls files were stored in different folders for each computer\n",
    "folder1 = \"../../benchmarking_ulice/\"\n",
    "folder2 = \"../../benchmarking_perlis/\"\n",
    "folder3 = \"../../benchmarking_hopper/\"\n",
    "folder4 = \"../../benchmarking_dani/\"\n"
   ]
  },
  {
   "cell_type": "code",
   "execution_count": 2,
   "metadata": {},
   "outputs": [],
   "source": [
    "# this function allows us to retrieve all time measurements in a single vector\n",
    "def read_data(filename):\n",
    "    data = np.loadtxt(filename, delimiter=',', skiprows=1)\n",
    "    \n",
    "    data = np.abs(data)\n",
    "    return data"
   ]
  },
  {
   "cell_type": "code",
   "execution_count": 3,
   "metadata": {},
   "outputs": [],
   "source": [
    "import numpy as np\n",
    "\n",
    "# this function returns the median execution time for a single computer\n",
    "def analyse_performance(computer, filename):\n",
    "    data = read_data(filename)\n",
    "    \n",
    "    median = np.median(data)\n",
    "    \n",
    "    print(\"Median processing time for \" + computer + \" was \" + str(median) + \" ms.\")\n",
    "    return median"
   ]
  },
  {
   "cell_type": "markdown",
   "metadata": {},
   "source": [
    "## Determine median processing time for individual conditions"
   ]
  },
  {
   "cell_type": "code",
   "execution_count": 4,
   "metadata": {},
   "outputs": [
    {
     "name": "stdout",
     "output_type": "stream",
     "text": [
      "Median processing time for Computer 1 / ImageJ was 5485.0 ms.\n",
      "Median processing time for Computer 2 / ImageJ was 2489.0 ms.\n",
      "Median processing time for Computer 3 / ImageJ was 1445.5 ms.\n",
      "Median processing time for Computer 4 / ImageJ was 2444.5 ms.\n",
      "Median processing time for Computer 1 / CLIJ was 141.0 ms.\n",
      "Median processing time for Computer 2 / CLIJ was 81.0 ms.\n",
      "Median processing time for Computer 3 / CLIJ was 159.0 ms.\n",
      "Median processing time for Computer 4 / CLIJ was 148.5 ms.\n"
     ]
    }
   ],
   "source": [
    "median_1_ij = analyse_performance(\"Computer 1 / ImageJ\", folder1 + single_command_imagej)\n",
    "median_2_ij = analyse_performance(\"Computer 2 / ImageJ\", folder2 + single_command_imagej)\n",
    "median_3_ij = analyse_performance(\"Computer 3 / ImageJ\", folder3 + single_command_imagej)\n",
    "median_4_ij = analyse_performance(\"Computer 4 / ImageJ\", folder4 + single_command_imagej)\n",
    "\n",
    "median_1_clij = analyse_performance(\"Computer 1 / CLIJ\", folder1 + single_command_clij)\n",
    "median_2_clij = analyse_performance(\"Computer 2 / CLIJ\", folder2 + single_command_clij)\n",
    "median_3_clij = analyse_performance(\"Computer 3 / CLIJ\", folder3 + single_command_clij)\n",
    "median_4_clij = analyse_performance(\"Computer 4 / CLIJ\", folder4 + single_command_clij)\n"
   ]
  },
  {
   "cell_type": "markdown",
   "metadata": {},
   "source": [
    "## Determine range of median processing times in ImageJ and CLIJ"
   ]
  },
  {
   "cell_type": "code",
   "execution_count": 5,
   "metadata": {},
   "outputs": [
    {
     "name": "stdout",
     "output_type": "stream",
     "text": [
      "Range ImageJ: [1445.5 ... 5485.0] ms\n"
     ]
    }
   ],
   "source": [
    "imagej_median_times = [median_1_ij, median_2_ij, median_3_ij, median_4_ij]\n",
    "\n",
    "print(\"Range ImageJ: [\" + str(np.min(imagej_median_times)) + \" ... \" + str(np.max(imagej_median_times)) + \"] ms\")"
   ]
  },
  {
   "cell_type": "code",
   "execution_count": 6,
   "metadata": {},
   "outputs": [
    {
     "name": "stdout",
     "output_type": "stream",
     "text": [
      "Range CLIJ: [81.0 ... 159.0] ms\n"
     ]
    }
   ],
   "source": [
    "clij_median_times = [median_1_clij, median_2_clij, median_3_clij, median_4_clij]\n",
    "\n",
    "print(\"Range CLIJ: [\" + str(np.min(clij_median_times)) + \" ... \" + str(np.max(clij_median_times)) + \"] ms\")"
   ]
  },
  {
   "cell_type": "code",
   "execution_count": null,
   "metadata": {},
   "outputs": [],
   "source": []
  }
 ],
 "metadata": {
  "kernelspec": {
   "display_name": "Python 3",
   "language": "python",
   "name": "python3"
  },
  "language_info": {
   "codemirror_mode": {
    "name": "ipython",
    "version": 3
   },
   "file_extension": ".py",
   "mimetype": "text/x-python",
   "name": "python",
   "nbconvert_exporter": "python",
   "pygments_lexer": "ipython3",
   "version": "3.7.8"
  }
 },
 "nbformat": 4,
 "nbformat_minor": 4
}
